{
 "cells": [
  {
   "cell_type": "code",
   "execution_count": 1,
   "metadata": {
    "collapsed": true
   },
   "outputs": [],
   "source": [
    "import os\n",
    "import pandas as pd"
   ]
  },
  {
   "cell_type": "code",
   "execution_count": 2,
   "outputs": [],
   "source": [
    "def generate_csv(dataframe, name):\n",
    "    img_number = dataframe.shape[0]\n",
    "    for i in range (img_number):\n",
    "        #print(dataframe.loc[i, 0])\n",
    "        if 'B007' in dataframe.loc[i, 0]:\n",
    "            dataframe.loc[i, 1] = 3\n",
    "        elif 'B014' in dataframe.loc[i, 0]:\n",
    "            dataframe.loc[i, 1] = 6\n",
    "        elif 'B021' in dataframe.loc[i, 0]:\n",
    "            dataframe.loc[i, 1] = 9\n",
    "\n",
    "        elif 'OR007' in dataframe.loc[i, 0]:\n",
    "            dataframe.loc[i, 1] = 1\n",
    "        elif 'OR014' in dataframe.loc[i, 0]:\n",
    "            dataframe.loc[i, 1] = 4\n",
    "        elif 'OR021' in dataframe.loc[i, 0]:\n",
    "            dataframe.loc[i, 1] = 7\n",
    "\n",
    "        elif 'IR007' in dataframe.loc[i, 0]:\n",
    "            dataframe.loc[i, 1] = 2\n",
    "        elif 'IR014' in dataframe.loc[i, 0]:\n",
    "            dataframe.loc[i, 1] = 5\n",
    "        elif 'IR021' in dataframe.loc[i, 0]:\n",
    "            dataframe.loc[i, 1] = 8\n",
    "        else:\n",
    "            dataframe.loc[i, 1] = 0\n",
    "    dataframe =dataframe.rename(columns={0:'imgae', 1: 'label'})\n",
    "    dataframe['label'] = dataframe['label'].astype(int)\n",
    "    dataframe.to_csv('./' + name +'.csv', index=None, header=None)\n"
   ],
   "metadata": {
    "collapsed": false,
    "pycharm": {
     "name": "#%%\n"
    }
   }
  },
  {
   "cell_type": "code",
   "execution_count": 3,
   "outputs": [
    {
     "name": "stdout",
     "output_type": "stream",
     "text": [
      "done\n"
     ]
    }
   ],
   "source": [
    "files = os.listdir('./train')\n",
    "data = pd.DataFrame(files)\n",
    "generate_csv(data, 'train')\n",
    "\n",
    "files = os.listdir('./val')\n",
    "data = pd.DataFrame(files)\n",
    "generate_csv(data, 'val')\n",
    "\n",
    "files = os.listdir('./test')\n",
    "data = pd.DataFrame(files)\n",
    "generate_csv(data, 'test')\n",
    "\n",
    "print(\"done\")\n"
   ],
   "metadata": {
    "collapsed": false,
    "pycharm": {
     "name": "#%%\n"
    }
   }
  },
  {
   "cell_type": "code",
   "execution_count": 31,
   "outputs": [
    {
     "data": {
      "text/plain": "      Unnamed: 0                  0    1\n0              0   OR007@3_3_28.png  1.0\n1              1      B021_3_24.png  9.0\n2              2      B007_3_33.png  3.0\n3              3   OR007@12_2_7.png  1.0\n4              4  OR021@12_0_11.png  7.0\n...          ...                ...  ...\n4155        4155     IR007_1_30.png  2.0\n4156        4156       B021_3_3.png  9.0\n4157        4157      IR007_1_1.png  2.0\n4158        4158      B021_3_22.png  9.0\n4159        4159  OR021@12_3_48.png  7.0\n\n[4160 rows x 3 columns]",
      "text/html": "<div>\n<style scoped>\n    .dataframe tbody tr th:only-of-type {\n        vertical-align: middle;\n    }\n\n    .dataframe tbody tr th {\n        vertical-align: top;\n    }\n\n    .dataframe thead th {\n        text-align: right;\n    }\n</style>\n<table border=\"1\" class=\"dataframe\">\n  <thead>\n    <tr style=\"text-align: right;\">\n      <th></th>\n      <th>Unnamed: 0</th>\n      <th>0</th>\n      <th>1</th>\n    </tr>\n  </thead>\n  <tbody>\n    <tr>\n      <th>0</th>\n      <td>0</td>\n      <td>OR007@3_3_28.png</td>\n      <td>1.0</td>\n    </tr>\n    <tr>\n      <th>1</th>\n      <td>1</td>\n      <td>B021_3_24.png</td>\n      <td>9.0</td>\n    </tr>\n    <tr>\n      <th>2</th>\n      <td>2</td>\n      <td>B007_3_33.png</td>\n      <td>3.0</td>\n    </tr>\n    <tr>\n      <th>3</th>\n      <td>3</td>\n      <td>OR007@12_2_7.png</td>\n      <td>1.0</td>\n    </tr>\n    <tr>\n      <th>4</th>\n      <td>4</td>\n      <td>OR021@12_0_11.png</td>\n      <td>7.0</td>\n    </tr>\n    <tr>\n      <th>...</th>\n      <td>...</td>\n      <td>...</td>\n      <td>...</td>\n    </tr>\n    <tr>\n      <th>4155</th>\n      <td>4155</td>\n      <td>IR007_1_30.png</td>\n      <td>2.0</td>\n    </tr>\n    <tr>\n      <th>4156</th>\n      <td>4156</td>\n      <td>B021_3_3.png</td>\n      <td>9.0</td>\n    </tr>\n    <tr>\n      <th>4157</th>\n      <td>4157</td>\n      <td>IR007_1_1.png</td>\n      <td>2.0</td>\n    </tr>\n    <tr>\n      <th>4158</th>\n      <td>4158</td>\n      <td>B021_3_22.png</td>\n      <td>9.0</td>\n    </tr>\n    <tr>\n      <th>4159</th>\n      <td>4159</td>\n      <td>OR021@12_3_48.png</td>\n      <td>7.0</td>\n    </tr>\n  </tbody>\n</table>\n<p>4160 rows × 3 columns</p>\n</div>"
     },
     "execution_count": 31,
     "metadata": {},
     "output_type": "execute_result"
    }
   ],
   "source": [],
   "metadata": {
    "collapsed": false,
    "pycharm": {
     "name": "#%%\n"
    }
   }
  }
 ],
 "metadata": {
  "kernelspec": {
   "display_name": "Python 3",
   "language": "python",
   "name": "python3"
  },
  "language_info": {
   "codemirror_mode": {
    "name": "ipython",
    "version": 2
   },
   "file_extension": ".py",
   "mimetype": "text/x-python",
   "name": "python",
   "nbconvert_exporter": "python",
   "pygments_lexer": "ipython2",
   "version": "2.7.6"
  }
 },
 "nbformat": 4,
 "nbformat_minor": 0
}